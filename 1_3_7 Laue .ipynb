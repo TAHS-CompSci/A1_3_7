{
 "cells": [
  {
   "cell_type": "code",
   "execution_count": null,
   "metadata": {},
   "outputs": [],
   "source": [
    "\"\"\"\n",
    "Activity 1.3.7 Notes, Questions, and Coding\n",
    "Jesse Laue\n",
    "Going through the lesson and taking notes, answering activity and conclusion questions, and coding.\n",
    "\"\"\""
   ]
  },
  {
   "cell_type": "code",
   "execution_count": null,
   "metadata": {},
   "outputs": [],
   "source": [
    "\"\"\"\n",
    "Notes\n",
    "\"\"\""
   ]
  },
  {
   "cell_type": "code",
   "execution_count": null,
   "metadata": {},
   "outputs": [],
   "source": [
    "# A handy list for making loops is returned by the function:\n",
    "range([start,]) stop [, step]"
   ]
  },
  {
   "cell_type": "code",
   "execution_count": null,
   "metadata": {},
   "outputs": [],
   "source": [
    "\"\"\"\n",
    "Activity Questions andConclusion Questions and answers\n",
    "\"\"\""
   ]
  },
  {
   "cell_type": "code",
   "execution_count": null,
   "metadata": {},
   "outputs": [],
   "source": [
    "#7\n"
   ]
  },
  {
   "cell_type": "code",
   "execution_count": null,
   "metadata": {},
   "outputs": [],
   "source": [
    "\"\"\"\n",
    "Concluding Questions \n",
    "\"\"\"\n"
   ]
  },
  {
   "cell_type": "code",
   "execution_count": null,
   "metadata": {},
   "outputs": [],
   "source": [
    "1. The disadvantages of developing code this way is that if there is an error you have to think of a new way to create the code.\n",
    "2. An example of large collection you might iterate could be a list or even a range of numbers.\n",
    "3. They both are known as analizying an large amount of data. One is just a loop and the other is going through it detail by detail.\n"
   ]
  },
  {
   "cell_type": "code",
   "execution_count": null,
   "metadata": {},
   "outputs": [],
   "source": [
    "\"\"\"\n",
    "Coding\n",
    "\"\"\""
   ]
  },
  {
   "cell_type": "code",
   "execution_count": null,
   "metadata": {},
   "outputs": [],
   "source": [
    "#5\n",
    "numbers = [1, 2, 3, 4]\n",
    "for item in numbers:\n",
    "        print(item**2)"
   ]
  },
  {
   "cell_type": "code",
   "execution_count": null,
   "metadata": {},
   "outputs": [],
   "source": [
    "#6\n",
    "range(4)\n",
    "[4, 6, 8, 10]"
   ]
  },
  {
   "cell_type": "code",
   "execution_count": null,
   "metadata": {},
   "outputs": [],
   "source": [
    "#7\n",
    "def days():\n",
    "    ''' \n",
    "In this fucntion when you plug in days() it loops through absolutly everything.\n",
    "    '''\n",
    "    for day in 'MTWRFSS':\n",
    "        print(day + 'day')\n",
    "    for day in range(5,8):\n",
    "        print('It is the ' + str(day) + 'th of September')\n",
    "        \n",
    "days()"
   ]
  },
  {
   "cell_type": "code",
   "execution_count": null,
   "metadata": {},
   "outputs": [],
   "source": [
    "#8\n",
    "any() ...\n",
    "bin() ...\n",
    "bool() ...\n",
    "bytes() ...\n",
    "callable() ...\n",
    "chr()"
   ]
  },
  {
   "cell_type": "code",
   "execution_count": 2,
   "metadata": {},
   "outputs": [],
   "source": [
    "#9\n",
    "import matplotlib.pyplot as plt # standard short name\n",
    "import random\n",
    "\n",
    "plt.ion() # sets \"interactive on\": figures redrawn when updated\n",
    "\n",
    "def picks():\n",
    "    a = [] # make an empty list\n",
    "\n",
    "    # Why all the brackets below?\n",
    "    # a += [  brackets here to add an iterable onto a list      ]\n",
    "    #    random.choice(   [brackets here to choose from a list] )\n",
    "    a += [random.choice([1, 3, 10])]\n",
    "\n",
    "    for choices in range(5):\n",
    "        a += [random.choice([1, 3, 10])]\n",
    "\n",
    "    plt.hist(a)\n",
    "    plt.show()"
   ]
  },
  {
   "cell_type": "code",
   "execution_count": 3,
   "metadata": {},
   "outputs": [
    {
     "data": {
      "image/png": "[encoded data removed]",
      "text/plain": [
       "<Figure size 432x288 with 1 Axes>"
      ]
     },
     "metadata": {
      "needs_background": "light"
     },
     "output_type": "display_data"
    }
   ],
   "source": [
    "picks()"
   ]
  },
  {
   "cell_type": "code",
   "execution_count": 12,
   "metadata": {},
   "outputs": [],
   "source": [
    "#10\n",
    "import matplotlib.pyplot as plt # standard short name\n",
    "import random\n",
    "\n",
    "plt.ion()\n",
    "\n",
    "def roll_hundred_pair():\n",
    "    a = []\n",
    "    for roll in range(99):\n",
    "        dice_one = random.choice ([1, 2, 3, 4, 5, 6])\n",
    "        dice_two = random.choice ([1, 2, 3, 4, 5, 6])\n",
    "        pair = dice_one + dice_two\n",
    "        a.append(pair) \n",
    "    plt.hist(a)\n",
    "    plt.show()\n",
    "\n",
    "\n"
   ]
  },
  {
   "cell_type": "code",
   "execution_count": 13,
   "metadata": {},
   "outputs": [
    {
     "data": {
      "image/png": "[encoded data removed]",
      "text/plain": [
       "<Figure size 432x288 with 1 Axes>"
      ]
     },
     "metadata": {
      "needs_background": "light"
     },
     "output_type": "display_data"
    }
   ],
   "source": [
    "roll_hundred_pair()"
   ]
  },
  {
   "cell_type": "code",
   "execution_count": null,
   "metadata": {},
   "outputs": [],
   "source": []
  }
 ],
 "metadata": {
  "kernelspec": {
   "display_name": "Python 3",
   "language": "python",
   "name": "python3"
  },
  "language_info": {
   "codemirror_mode": {
    "name": "ipython",
    "version": 3
   },
   "file_extension": ".py",
   "mimetype": "text/x-python",
   "name": "python",
   "nbconvert_exporter": "python",
   "pygments_lexer": "ipython3",
   "version": "3.7.4"
  }
 },
 "nbformat": 4,
 "nbformat_minor": 2
}
