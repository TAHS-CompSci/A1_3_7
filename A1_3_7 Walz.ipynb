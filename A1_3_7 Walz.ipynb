{
 "cells": [
  {
   "cell_type": "markdown",
   "metadata": {},
   "source": [
    "A1_3_7 Walz\n",
    "Programmer:Gavin Walz\n",
    "Notes for Activity 1_3_7 For Loops"
   ]
  },
  {
   "cell_type": "code",
   "execution_count": 1,
   "metadata": {},
   "outputs": [],
   "source": [
    "numbers = [1, 2, 3, 4]"
   ]
  },
  {
   "cell_type": "code",
   "execution_count": 2,
   "metadata": {},
   "outputs": [
    {
     "name": "stdout",
     "output_type": "stream",
     "text": [
      "1\n",
      "4\n",
      "9\n",
      "16\n"
     ]
    }
   ],
   "source": [
    "for item in numbers:\n",
    "    print(item**2)"
   ]
  },
  {
   "cell_type": "code",
   "execution_count": 10,
   "metadata": {},
   "outputs": [
    {
     "name": "stdout",
     "output_type": "stream",
     "text": [
      "range(0, 4)\n"
     ]
    }
   ],
   "source": [
    "x=range(4)\n",
    "print (x)"
   ]
  },
  {
   "cell_type": "code",
   "execution_count": 8,
   "metadata": {},
   "outputs": [
    {
     "data": {
      "text/plain": [
       "range(20, 12, -3)"
      ]
     },
     "execution_count": 8,
     "metadata": {},
     "output_type": "execute_result"
    }
   ],
   "source": [
    "range(20, 12, -3)"
   ]
  },
  {
   "cell_type": "code",
   "execution_count": 6,
   "metadata": {},
   "outputs": [
    {
     "data": {
      "text/plain": [
       "range(4, 10, 2)"
      ]
     },
     "execution_count": 6,
     "metadata": {},
     "output_type": "execute_result"
    }
   ],
   "source": [
    "range(4,10,2)"
   ]
  },
  {
   "cell_type": "code",
   "execution_count": 11,
   "metadata": {},
   "outputs": [],
   "source": [
    "def days():\n",
    "    ''' Explain the function here\n",
    "    '''\n",
    "    for day in 'MTWRFSS':\n",
    "        print(day + 'day')\n",
    "    for day in range(5,8):\n",
    "        print('It is the ' + str(day) + 'th of September')"
   ]
  },
  {
   "cell_type": "code",
   "execution_count": 12,
   "metadata": {},
   "outputs": [
    {
     "name": "stdout",
     "output_type": "stream",
     "text": [
      "Mday\n",
      "Tday\n",
      "Wday\n",
      "Rday\n",
      "Fday\n",
      "Sday\n",
      "Sday\n",
      "It is the 5th of September\n",
      "It is the 6th of September\n",
      "It is the 7th of September\n"
     ]
    }
   ],
   "source": [
    "days()"
   ]
  },
  {
   "cell_type": "code",
   "execution_count": 3,
   "metadata": {},
   "outputs": [],
   "source": [
    "import matplotlib.pyplot as plt # standard short name\n",
    "import random\n",
    "\n",
    "plt.ion() # sets \"interactive on\": figures redrawn when updated\n",
    "\n",
    "def picks():\n",
    "    a = [] # make an empty list\n",
    "\n",
    "    # Why all the brackets below?\n",
    "    # a += [  brackets here to add an iterable onto a list      ]\n",
    "    #    random.choice(   [brackets here to choose from a list] )\n",
    "    a += [random.choice([1, 3, 10])]\n",
    "\n",
    "    for choices in range(5):\n",
    "        a += [random.choice([1, 3, 10])]\n",
    "\n",
    "    plt.hist(a)\n",
    "    plt.show()"
   ]
  },
  {
   "cell_type": "code",
   "execution_count": 5,
   "metadata": {},
   "outputs": [],
   "source": [
    "def roll_hundred_pair():\n",
    "    b=[]\n",
    "    b += [random.choice([1,2,3,4,5,6])]\n",
    "\n",
    "    for choices in range(100):\n",
    "        b += [random.choice([1,2,3,4,5,6])]\n",
    "\n",
    "    plt.hist(b)\n",
    "    plt.show()"
   ]
  },
  {
   "cell_type": "code",
   "execution_count": 6,
   "metadata": {},
   "outputs": [
    {
     "data": {
      "image/png": "[encoded data removed]",
      "text/plain": [
       "<Figure size 432x288 with 1 Axes>"
      ]
     },
     "metadata": {
      "needs_background": "light"
     },
     "output_type": "display_data"
    }
   ],
   "source": [
    "roll_hundred_pair()"
   ]
  },
  {
   "cell_type": "code",
   "execution_count": 8,
   "metadata": {},
   "outputs": [],
   "source": [
    "def matches(ticket,winners):\n",
    "    number_correct=0\n",
    "    if ticket[0] in winners:\n",
    "        number_correct+=1\n",
    "    if ticket[1] in winners:\n",
    "        number_correct+=1\n",
    "    if ticket[2] in winners:\n",
    "        number_correct+=1\n",
    "    if ticket[3] in winners:\n",
    "        number_correct+=1\n",
    "    if ticket[4] in winners:\n",
    "        number_correct+=1\n",
    "    print (number_correct)"
   ]
  },
  {
   "cell_type": "code",
   "execution_count": 9,
   "metadata": {},
   "outputs": [
    {
     "name": "stdout",
     "output_type": "stream",
     "text": [
      "2\n"
     ]
    }
   ],
   "source": [
    "matches([11, 12, 13, 14, 15], [3, 8, 12, 13, 17])"
   ]
  },
  {
   "cell_type": "code",
   "execution_count": null,
   "metadata": {},
   "outputs": [],
   "source": []
  }
 ],
 "metadata": {
  "kernelspec": {
   "display_name": "Python 3",
   "language": "python",
   "name": "python3"
  },
  "language_info": {
   "codemirror_mode": {
    "name": "ipython",
    "version": 3
   },
   "file_extension": ".py",
   "mimetype": "text/x-python",
   "name": "python",
   "nbconvert_exporter": "python",
   "pygments_lexer": "ipython3",
   "version": "3.7.4"
  }
 },
 "nbformat": 4,
 "nbformat_minor": 2
}
